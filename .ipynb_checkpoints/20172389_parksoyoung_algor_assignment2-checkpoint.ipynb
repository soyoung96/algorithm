{
 "cells": [
  {
   "cell_type": "code",
   "execution_count": 5,
   "metadata": {},
   "outputs": [],
   "source": [
    "#1번문제\n",
    "import math\n",
    "\n",
    "def powerK(n):\n",
    "    return int(math.log(n, 2))"
   ]
  },
  {
   "cell_type": "code",
   "execution_count": 6,
   "metadata": {},
   "outputs": [
    {
     "name": "stdout",
     "output_type": "stream",
     "text": [
      "3\n"
     ]
    }
   ],
   "source": [
    "print(powerK(10))"
   ]
  },
  {
   "cell_type": "code",
   "execution_count": 7,
   "metadata": {},
   "outputs": [
    {
     "name": "stdout",
     "output_type": "stream",
     "text": [
      "5\n"
     ]
    }
   ],
   "source": [
    "print(powerK(50))"
   ]
  },
  {
   "cell_type": "code",
   "execution_count": 9,
   "metadata": {},
   "outputs": [
    {
     "name": "stdout",
     "output_type": "stream",
     "text": [
      "10\n"
     ]
    }
   ],
   "source": [
    "print(powerK(1025))"
   ]
  },
  {
   "cell_type": "code",
   "execution_count": 20,
   "metadata": {},
   "outputs": [],
   "source": [
    "#2번문제\n",
    "\n",
    "def isCircleWord(w):\n",
    "    isCw = True \n",
    "    for i in range(len(w) // 2):      \n",
    "        if w[i] != w[-1 - i]:      \n",
    "            isCw = False\n",
    "            return isCw\n",
    "            break\n",
    "    return isCw"
   ]
  },
  {
   "cell_type": "code",
   "execution_count": 23,
   "metadata": {},
   "outputs": [
    {
     "name": "stdout",
     "output_type": "stream",
     "text": [
      "True\n"
     ]
    }
   ],
   "source": [
    "print(isCircleWord(\"level\"))"
   ]
  },
  {
   "cell_type": "code",
   "execution_count": 24,
   "metadata": {},
   "outputs": [
    {
     "name": "stdout",
     "output_type": "stream",
     "text": [
      "False\n"
     ]
    }
   ],
   "source": [
    "print(isCircleWord(\"ohhh\"))"
   ]
  },
  {
   "cell_type": "code",
   "execution_count": 34,
   "metadata": {},
   "outputs": [],
   "source": [
    "#3번문제\n",
    "\n",
    "#답:5"
   ]
  },
  {
   "cell_type": "code",
   "execution_count": 96,
   "metadata": {},
   "outputs": [],
   "source": [
    "#4번문제\n",
    "def binaryS(l,wanna,left,right):\n",
    "    m_idx = (left+right)//2\n",
    "    m = l[m_idx]\n",
    "    if wanna == m:\n",
    "        print(\"m_idx:{0}, find num:{1}\".format(m_idx,l[m_idx]))\n",
    "        \n",
    "    elif m > wanna:\n",
    "        binaryS(l, wanna,left,m_idx-1)\n",
    "        \n",
    "    elif wanna > m:\n",
    "        binaryS(l, wanna,m_idx+1,right)\n",
    "    "
   ]
  },
  {
   "cell_type": "code",
   "execution_count": 97,
   "metadata": {},
   "outputs": [
    {
     "name": "stdout",
     "output_type": "stream",
     "text": [
      "m_idx:7, find num:120\n"
     ]
    }
   ],
   "source": [
    "l=[12, 34, 37, 45 ,57, 82, 99, 120 ,134]\n",
    "binaryS(l,120,0,len(l)-1)\n"
   ]
  },
  {
   "cell_type": "code",
   "execution_count": 3,
   "metadata": {},
   "outputs": [
    {
     "data": {
      "text/plain": [
       "array([[ 0,  1,  2,  3,  4],\n",
       "       [ 5,  6,  7,  8,  9],\n",
       "       [10, 11, 12, 13, 14],\n",
       "       [15, 16, 17, 18, 19],\n",
       "       [20, 21, 22, 23, 24]])"
      ]
     },
     "execution_count": 3,
     "metadata": {},
     "output_type": "execute_result"
    }
   ],
   "source": [
    "#5번문제\n",
    "import numpy as np\n",
    "\n",
    "arr=np.array(range(25)).reshape((5,5))\n",
    "arr"
   ]
  },
  {
   "cell_type": "code",
   "execution_count": 7,
   "metadata": {},
   "outputs": [],
   "source": [
    "def rotate(m):\n",
    "    \n",
    "    ret = [[0] * 5for _ in range(5)]\n",
    "    for r in range(5):\n",
    "        for c in range(5):\n",
    "            ret[c][5-1-r] = m[r][c]\n",
    "    return ret"
   ]
  },
  {
   "cell_type": "code",
   "execution_count": 8,
   "metadata": {},
   "outputs": [
    {
     "name": "stdout",
     "output_type": "stream",
     "text": [
      "[[20 15 10  5  0]\n",
      " [21 16 11  6  1]\n",
      " [22 17 12  7  2]\n",
      " [23 18 13  8  3]\n",
      " [24 19 14  9  4]]\n"
     ]
    }
   ],
   "source": [
    "print(np.array(rotate(arr)))"
   ]
  },
  {
   "cell_type": "code",
   "execution_count": 10,
   "metadata": {},
   "outputs": [],
   "source": [
    "#6번문제\n",
    "\n",
    "def pairSum(l,a):\n",
    "    lenth=len(l)\n",
    "    answer=[]\n",
    "    for i in range(lenth-1):\n",
    "        for j in range(i+1,lenth):\n",
    "            if l[i]+l[j]==a:\n",
    "                answer.append('{0}+{1}'.format(l[i],l[j]))\n",
    "            \n",
    "    return answer\n",
    "    "
   ]
  },
  {
   "cell_type": "code",
   "execution_count": 11,
   "metadata": {},
   "outputs": [
    {
     "data": {
      "text/plain": [
       "['2+5', '4+3', '3+4', '-2+9']"
      ]
     },
     "execution_count": 11,
     "metadata": {},
     "output_type": "execute_result"
    }
   ],
   "source": [
    "inputarr=[2,4,3,5,6,-2,4,7,8,9]\n",
    "pairSum(inputarr,7)"
   ]
  },
  {
   "cell_type": "code",
   "execution_count": null,
   "metadata": {},
   "outputs": [],
   "source": []
  }
 ],
 "metadata": {
  "kernelspec": {
   "display_name": "Python 3",
   "language": "python",
   "name": "python3"
  },
  "language_info": {
   "codemirror_mode": {
    "name": "ipython",
    "version": 3
   },
   "file_extension": ".py",
   "mimetype": "text/x-python",
   "name": "python",
   "nbconvert_exporter": "python",
   "pygments_lexer": "ipython3",
   "version": "3.8.5"
  }
 },
 "nbformat": 4,
 "nbformat_minor": 4
}
